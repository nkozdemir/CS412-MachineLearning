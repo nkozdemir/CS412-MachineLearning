{
 "cells": [
  {
   "cell_type": "markdown",
   "metadata": {},
   "source": [
    "Nural Kaan Özdemir - 29192"
   ]
  },
  {
   "cell_type": "markdown",
   "metadata": {},
   "source": [
    "# 2. Probability and Bayes’ Theorem: Kaggle ML & DS Survey"
   ]
  },
  {
   "cell_type": "code",
   "execution_count": 1,
   "metadata": {},
   "outputs": [],
   "source": [
    "import pandas as pd\n",
    "\n",
    "# Load the data\n",
    "schema_df = pd.read_csv('schema.csv')\n",
    "multiple_choice_df = pd.read_csv('multipleChoiceResponses.csv', encoding='ISO-8859-1', low_memory=False)\n",
    "freeform_df = pd.read_csv('freeformResponses.csv', low_memory=False)\n",
    "conversion_rates_df = pd.read_csv('conversionRates.csv')"
   ]
  },
  {
   "cell_type": "markdown",
   "metadata": {},
   "source": [
    "## 2.a What is the probability that a respondent is currently employed as a Programmer given they use C/C++ at work?"
   ]
  },
  {
   "cell_type": "code",
   "execution_count": 2,
   "metadata": {},
   "outputs": [
    {
     "name": "stdout",
     "output_type": "stream",
     "text": [
      "Probability that a respondent is currently employed as a Programmer given they use C/C++ at work: 0.02225130890052356\n"
     ]
    }
   ],
   "source": [
    "# Filter respondents who use C/C++\n",
    "c_cpp_users = multiple_choice_df[multiple_choice_df['WorkToolsSelect'].str.contains(r'C/C\\+\\+', na=False)]\n",
    "\n",
    "# Calculate the total number of respondents who use C/C++\n",
    "total_c_cpp_users = len(c_cpp_users)\n",
    "\n",
    "# Calculate the number of respondents who are employed as Programmers and use C/C++\n",
    "programmers_and_c_cpp_users = c_cpp_users[c_cpp_users['CurrentJobTitleSelect'] == 'Programmer']\n",
    "\n",
    "# Calculate the probability\n",
    "probability_programmer_given_c_cpp = len(programmers_and_c_cpp_users) / total_c_cpp_users\n",
    "print(\"Probability that a respondent is currently employed as a Programmer given they use C/C++ at work:\", probability_programmer_given_c_cpp)"
   ]
  },
  {
   "cell_type": "markdown",
   "metadata": {},
   "source": [
    "## 2.b What is the probability that a respondent is a Data Scientist given they have majored in computer science, mathematics or statistics?"
   ]
  },
  {
   "cell_type": "code",
   "execution_count": 3,
   "metadata": {},
   "outputs": [
    {
     "name": "stdout",
     "output_type": "stream",
     "text": [
      "Probability that a respondent is a Data Scientist given they have majored in computer science, mathematics, or statistics: 0.1597400634728729\n"
     ]
    }
   ],
   "source": [
    "# Filter respondents who majored in computer science, mathematics, or statistics\n",
    "cs_math_stats_majors = multiple_choice_df[multiple_choice_df['MajorSelect'].isin(['Computer Science', 'Mathematics or statistics'])]\n",
    "\n",
    "# Calculate the total number of respondents who majored in CS, Math, or Stats\n",
    "total_cs_math_stats_majors = len(cs_math_stats_majors)\n",
    "\n",
    "# Calculate the number of respondents who are Data Scientists and have majored in CS, Math, or Stats\n",
    "data_scientists_and_cs_math_stats_majors = cs_math_stats_majors[cs_math_stats_majors['CurrentJobTitleSelect'] == 'Data Scientist']\n",
    "\n",
    "# Calculate the probability\n",
    "probability_data_scientist_given_cs_math_stats = len(data_scientists_and_cs_math_stats_majors) / total_cs_math_stats_majors\n",
    "print(\"Probability that a respondent is a Data Scientist given they have majored in computer science, mathematics, or statistics:\", probability_data_scientist_given_cs_math_stats)"
   ]
  },
  {
   "cell_type": "markdown",
   "metadata": {},
   "source": [
    "## 2.c What is the probability that a respondent works in the Technology industry given they earn more than 40,000 USD annually?"
   ]
  },
  {
   "cell_type": "code",
   "execution_count": 4,
   "metadata": {},
   "outputs": [
    {
     "name": "stdout",
     "output_type": "stream",
     "text": [
      "Probability that a respondent works in the Technology industry given that they earn more than 40,000 USD annually: 0.2081901489117984\n"
     ]
    }
   ],
   "source": [
    "# Merge the multiple_choice_df with conversion_rates_df to convert compensation amounts to USD\n",
    "merged_df = pd.merge(multiple_choice_df, conversion_rates_df, left_on='CompensationCurrency', right_on='originCountry', how='left')\n",
    "\n",
    "# Drop entries where CompensationCurrency is null\n",
    "merged_df.dropna(subset=['CompensationCurrency'], inplace=True)\n",
    "\n",
    "# Convert values with commas to format without commas in CompensationAmount column\n",
    "merged_df['CompensationAmount'] = merged_df['CompensationAmount'].str.replace(',', '')\n",
    "\n",
    "# Replace non-numeric values with NaN in CompensationAmount column\n",
    "merged_df['CompensationAmount'] = pd.to_numeric(merged_df['CompensationAmount'], errors='coerce')\n",
    "\n",
    "# Drop NaN values in CompensationAmount column\n",
    "merged_df.dropna(subset=['CompensationAmount'], inplace=True)\n",
    "\n",
    "# Filter respondents who earn more than 40,000 USD annually\n",
    "high_income_earners = merged_df[merged_df['CompensationAmount'] > 40000]\n",
    "\n",
    "# Calculate the total number of respondents who earn more than 40,000 USD annually\n",
    "total_high_income_earners = len(high_income_earners)\n",
    "\n",
    "# Filter respondents who work in the Technology industry and earn more than 40,000 USD annually\n",
    "tech_industry_and_high_income_earners = high_income_earners[high_income_earners['EmployerIndustry'] == 'Technology']\n",
    "\n",
    "# Calculate the probability\n",
    "probability_tech_industry_given_high_income = len(tech_industry_and_high_income_earners) / total_high_income_earners\n",
    "print(\"Probability that a respondent works in the Technology industry given that they earn more than 40,000 USD annually:\", probability_tech_industry_given_high_income)"
   ]
  },
  {
   "cell_type": "markdown",
   "metadata": {},
   "source": [
    "## 2.d What is the joint probability that a respondent is over 30 years old and has at least a Bachelor's degree?"
   ]
  },
  {
   "cell_type": "code",
   "execution_count": 5,
   "metadata": {},
   "outputs": [
    {
     "name": "stdout",
     "output_type": "stream",
     "text": [
      "Joint probability of being over 30 years old and having at least a Bachelor's degree: 0.36898779612347454\n"
     ]
    }
   ],
   "source": [
    "# Filter respondents who are over 30 years old\n",
    "over_30 = multiple_choice_df[multiple_choice_df['Age'] > 30]\n",
    "\n",
    "# Filter respondents who have at least a Bachelor's degree among those over 30\n",
    "bachelors_degree_over_30 = over_30[over_30['FormalEducation'].isin([\"Bachelor's degree\", \"Master's degree\", \"Doctoral degree\"])]\n",
    "\n",
    "# Calculate the joint probability\n",
    "joint_probability = len(bachelors_degree_over_30) / len(multiple_choice_df)\n",
    "\n",
    "print(\"Joint probability of being over 30 years old and having at least a Bachelor's degree:\", joint_probability)"
   ]
  },
  {
   "cell_type": "markdown",
   "metadata": {},
   "source": [
    "## 2.e What is the probability that a respondent is a Data Scientist and has majored in Computer Science, Mathematics, or Statistics?"
   ]
  },
  {
   "cell_type": "code",
   "execution_count": 6,
   "metadata": {},
   "outputs": [
    {
     "name": "stdout",
     "output_type": "stream",
     "text": [
      "Probability that a respondent is a Data Scientist who majored in Computer Science, Mathematics, or Statistics: 0.06323283082077052\n"
     ]
    }
   ],
   "source": [
    "# Filter respondents who are Data Scientists\n",
    "data_scientists = multiple_choice_df[multiple_choice_df['CurrentJobTitleSelect'] == 'Data Scientist']\n",
    "\n",
    "# Filter respondents who majored in Computer Science, Mathematics, or Statistics among Data Scientists\n",
    "majored_in_cms = data_scientists[data_scientists['MajorSelect'].isin([\"Computer Science\", \"Mathematics or statistics\"])]\n",
    "\n",
    "# Calculate the probability\n",
    "probability_majored_cms = len(majored_in_cms) / len(multiple_choice_df)\n",
    "\n",
    "print(\"Probability that a respondent is a Data Scientist who majored in Computer Science, Mathematics, or Statistics:\", probability_majored_cms)"
   ]
  },
  {
   "cell_type": "markdown",
   "metadata": {},
   "source": [
    "## 2.f What is the joint probability that a respondent is from France, earns less than 100,000 USD annually, and uses Cross-Validation Often or Most of the time?"
   ]
  },
  {
   "cell_type": "code",
   "execution_count": 7,
   "metadata": {},
   "outputs": [
    {
     "name": "stdout",
     "output_type": "stream",
     "text": [
      "Joint probability that a respondent is from France, earns less than 100,000 USD annually, and uses Cross-Validation Often or Most of the time: 0.0068796262041477835\n"
     ]
    }
   ],
   "source": [
    "# Merge the multiple_choice_df with conversion_rates_df to convert compensation amounts to USD\n",
    "merged_df = pd.merge(multiple_choice_df, conversion_rates_df, left_on='CompensationCurrency', right_on='originCountry', how='left')\n",
    "\n",
    "# Drop entries where CompensationCurrency is null\n",
    "merged_df.dropna(subset=['CompensationCurrency'], inplace=True)\n",
    "\n",
    "# Convert values with commas to format without commas in CompensationAmount column\n",
    "merged_df['CompensationAmount'] = merged_df['CompensationAmount'].str.replace(',', '')\n",
    "\n",
    "# Replace non-numeric values with NaN\n",
    "merged_df['CompensationAmount'] = pd.to_numeric(merged_df['CompensationAmount'], errors='coerce')\n",
    "\n",
    "# Filter out NaN values\n",
    "merged_df = merged_df.dropna(subset=['CompensationAmount'])\n",
    "\n",
    "# Filter respondents from France\n",
    "from_france = merged_df[merged_df['Country'] == 'France']\n",
    "\n",
    "# Filter respondents who earn less than 100,000 USD annually\n",
    "earn_less_than_100k = merged_df[merged_df['CompensationAmount'] < 100000]\n",
    "\n",
    "# Filter respondents who use Cross-Validation Often or Most of the time\n",
    "uses_cross_validation = merged_df[merged_df['WorkMethodsFrequencyCross-Validation'].isin(['Often', 'Most of the time'])]\n",
    "\n",
    "# Calculate the joint probability\n",
    "joint_probability = len(from_france) / len(merged_df) * len(earn_less_than_100k) / len(merged_df) * len(uses_cross_validation) / len(merged_df)\n",
    "\n",
    "print(\"Joint probability that a respondent is from France, earns less than 100,000 USD annually, and uses Cross-Validation Often or Most of the time:\", joint_probability)"
   ]
  },
  {
   "cell_type": "markdown",
   "metadata": {},
   "source": [
    "## 2.g What is the probability that a respondent uses C/C++ at work given that they are employed as a Programmer? "
   ]
  },
  {
   "cell_type": "code",
   "execution_count": 8,
   "metadata": {},
   "outputs": [
    {
     "name": "stdout",
     "output_type": "stream",
     "text": [
      "Probability that a respondent uses C/C++ at work given that they are employed as a Programmer: 0.0735930735930736\n"
     ]
    }
   ],
   "source": [
    "# Filter respondents who are employed as Programmers\n",
    "programmers = multiple_choice_df[multiple_choice_df['CurrentJobTitleSelect'] == 'Programmer']\n",
    "\n",
    "# Filter respondents who use C/C++ at work among programmers\n",
    "c_cpp_users = programmers[programmers['WorkToolsSelect'].str.contains(r'C/C\\+\\+', na=False)]\n",
    "\n",
    "# Calculate the probability\n",
    "probability_c_cpp_given_programmer = len(c_cpp_users) / len(programmers)\n",
    "\n",
    "print(\"Probability that a respondent uses C/C++ at work given that they are employed as a Programmer:\", probability_c_cpp_given_programmer)"
   ]
  },
  {
   "cell_type": "markdown",
   "metadata": {},
   "source": [
    "## 2.h Given the probability of a respondent wearing glasses is 0.15, and the probability of a respondent wearing glasses given they have a PhD is 0.25, find the probability of a respondent having a PhD given that they wear glasses."
   ]
  },
  {
   "cell_type": "code",
   "execution_count": 9,
   "metadata": {},
   "outputs": [
    {
     "name": "stdout",
     "output_type": "stream",
     "text": [
      "Probability of having a PhD given that they wear glasses: 0.23400733827869508\n"
     ]
    }
   ],
   "source": [
    "# Given probabilities\n",
    "P_Glasses = 0.15\n",
    "P_Glasses_given_PhD = 0.25\n",
    "\n",
    "# Count the number of respondents with a PhD\n",
    "phd_count = len(multiple_choice_df[multiple_choice_df['FormalEducation'] == 'Doctoral degree'])\n",
    "\n",
    "# Calculate the total number of respondents\n",
    "total_count = len(multiple_choice_df)\n",
    "\n",
    "# Calculate the probability of having a PhD\n",
    "P_PhD = phd_count / total_count\n",
    "\n",
    "# Applying Bayes' Theorem\n",
    "P_PhD_given_Glasses = (P_Glasses_given_PhD * P_PhD) / P_Glasses\n",
    "\n",
    "print(\"Probability of having a PhD given that they wear glasses:\", P_PhD_given_Glasses)"
   ]
  }
 ],
 "metadata": {
  "kernelspec": {
   "display_name": "py312",
   "language": "python",
   "name": "python3"
  },
  "language_info": {
   "codemirror_mode": {
    "name": "ipython",
    "version": 3
   },
   "file_extension": ".py",
   "mimetype": "text/x-python",
   "name": "python",
   "nbconvert_exporter": "python",
   "pygments_lexer": "ipython3",
   "version": "3.12.2"
  }
 },
 "nbformat": 4,
 "nbformat_minor": 2
}
